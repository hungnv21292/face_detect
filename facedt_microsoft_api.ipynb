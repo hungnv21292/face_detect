{
 "cells": [
  {
   "cell_type": "code",
   "execution_count": null,
   "metadata": {
    "collapsed": true
   },
   "outputs": [],
   "source": [
    "import cv2\n",
    "import requests\n",
    "from IPython.display import HTML\n",
    "import cognitive_face as CF\n",
    "from io import BytesIO\n",
    "from PIL import Image, ImageDraw\n",
    "import xlrd\n",
    "\n",
    "data = xlrd.open_workbook(\"/home/bkic611/face_detect/face_detected_filter.xls\")\n",
    "list = data.sheet_by_index(0)\n"
   ]
  },
  {
   "cell_type": "code",
   "execution_count": 2,
   "metadata": {
    "collapsed": true
   },
   "outputs": [],
   "source": [
    "\n",
    "region = \"westcentralus\"\n",
    "subscription_key = \"d6ab8eba9c094e9592847e406db1a4fd\"\n",
    "assert subscription_key\n",
    "face_api_url = 'https://westcentralus.api.cognitive.microsoft.com/face/v1.0'\n"
   ]
  },
  {
   "cell_type": "code",
   "execution_count": 3,
   "metadata": {
    "collapsed": true
   },
   "outputs": [],
   "source": [
    "headers = { 'Ocp-Apim-Subscription-Key': 'd6ab8eba9c094e9592847e406db1a4fd' }\n",
    "headers['Content-Type'] = 'application/octet-stream'\n",
    "\n",
    "params = {\n",
    "    'returnFaceId': 'true',\n",
    "    'returnFaceLandmarks': 'false',\n",
    "    #'returnFaceAttributes': 'age,gender,headPose,smile,facialHair,glasses,emotion,hair,makeup,occlusion,accessories,blur,exposure,noise',\n",
    "}\n",
    "index = 62;"
   ]
  },
  {
   "cell_type": "code",
   "execution_count": 4,
   "metadata": {
    "collapsed": true
   },
   "outputs": [],
   "source": [
    "for i in range(1,20):\n",
    "    channel = int(list.cell(index+1, 0).value)\n",
    "    time = int(list.cell(index+1, 1).value)\n",
    "    frame_indx = int(list.cell(index+1, 2).value)\n",
    "\n",
    "    \n",
    "    name = '/home/bkic611/face_detect/raw_img/' + channel + '/'+ time + '_fr%d' % frame_indx + '.png'   \n",
    "    path_to_file = name #path den file local\n",
    "    \n",
    "    img = cv2.imread(path_to_file)\n",
    "    with open(path_to_file, 'rb') as f:\n",
    "        data = f.read()\n",
    "    \n",
    "    response = requests.request('post', \"https://{}.api.cognitive.microsoft.com/face/v1.0/detect\".format(region), data=data, headers=headers, params=params)\n",
    "\n",
    "    faces = response.json()\n",
    "    index = index + 1;\n",
    "\n",
    "    for face in faces:\n",
    "        rect = face['faceRectangle']\n",
    "        x = rect['left']\n",
    "        y = rect['top']\n",
    "        w = rect['width']\n",
    "        h = rect['height']\n",
    "        cv2.rectangle(img, (x, y), (x + w, y + h), (255, 0, 0), 2)\n",
    "        #roi_gray = gray[y:y + h, x:x + w]\n",
    "        roi_color = img[y:y + h, x:x + w]\n",
    "        #cv2.imshow(img)\n",
    "        name_dt = '/home/bkic611/face_detect/apidetect_img/' + channel + '/'+ time + '_fr%d' % frame_indx + '.png'\n",
    "        cv2.imwrite(name_dt,img)"
   ]
  },
  {
   "cell_type": "code",
   "execution_count": 10,
   "metadata": {
    "collapsed": true,
    "scrolled": true
   },
   "outputs": [],
   "source": [
    "    "
   ]
  },
  {
   "cell_type": "code",
   "execution_count": 6,
   "metadata": {
    "collapsed": true
   },
   "outputs": [],
   "source": [
    "#Convert width height to a point in a rectangle\n",
    "def getRectangle(faceDictionary):\n",
    "    rect = faceDictionary['faceRectangle']\n",
    "    left = rect['left']\n",
    "    top = rect['top']\n",
    "    bottom = left + rect['height']\n",
    "    right = top + rect['width']\n",
    "    return ((left, top), (bottom, right))\n",
    "\n",
    "#Download the image from the url\n",
    "img = Image.open(path_to_file)\n",
    "\n",
    "#For each face returned use the face rectangle and draw a red box.\n",
    "draw = ImageDraw.Draw(img)\n",
    "# cv2.imshow('detected',img)\n",
    "\n",
    "for face in faces:\n",
    "    draw.rectangle(getRectangle(face), outline='blue')\n",
    "\n",
    "#Display the image in the users default image browser.\n",
    "img.show()\n",
    "with open('picture_out.png', 'wb') as f:\n",
    "    f.write(data)"
   ]
  },
  {
   "cell_type": "code",
   "execution_count": null,
   "metadata": {
    "collapsed": true
   },
   "outputs": [],
   "source": []
  }
 ],
 "metadata": {
  "kernelspec": {
   "display_name": "Python 3",
   "language": "python",
   "name": "python3"
  },
  "language_info": {
   "codemirror_mode": {
    "name": "ipython",
    "version": 3
   },
   "file_extension": ".py",
   "mimetype": "text/x-python",
   "name": "python",
   "nbconvert_exporter": "python",
   "pygments_lexer": "ipython3",
   "version": "3.6.3"
  }
 },
 "nbformat": 4,
 "nbformat_minor": 2
}
